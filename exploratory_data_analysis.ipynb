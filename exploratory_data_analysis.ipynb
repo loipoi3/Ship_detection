{
 "cells": [
  {
   "cell_type": "code",
   "execution_count": 36,
   "id": "ad22dc68",
   "metadata": {},
   "outputs": [],
   "source": [
    "import pandas as pd\n",
    "import os\n",
    "from sklearn.model_selection import train_test_split\n",
    "\n",
    "# Set the base directory and directories for training and test data\n",
    "BASE_DIR = 'D:/projects/Winstars/airbus-ship-detection'\n",
    "TRAIN_DIR = BASE_DIR + '/train_v2/'\n",
    "TEST_DIR = BASE_DIR + '/test_v2/'"
   ]
  },
  {
   "cell_type": "code",
   "execution_count": 37,
   "id": "1365de6d",
   "metadata": {},
   "outputs": [
    {
     "name": "stdout",
     "output_type": "stream",
     "text": [
      "Train files: 192556 ---> ['00003e153.jpg', '0001124c7.jpg', '000155de5.jpg']\n",
      "Test files: 15606 ---> ['00002bd58.jpg', '00015efb6.jpg', '00023d5fc.jpg']\n"
     ]
    }
   ],
   "source": [
    "# Get the list of files from the training directory\n",
    "train = os.listdir(TRAIN_DIR)\n",
    "\n",
    "# Get the list of files from the test directory\n",
    "test = os.listdir(TEST_DIR)\n",
    "\n",
    "# Print the number of train files and the first three filenames\n",
    "print(f\"Train files: {len(train)} ---> {train[:3]}\")\n",
    "\n",
    "# Print the number of test files and the first three filenames\n",
    "print(f\"Test files: {len(test)} ---> {test[:3]}\")"
   ]
  },
  {
   "cell_type": "code",
   "execution_count": 38,
   "id": "96dcfba4",
   "metadata": {},
   "outputs": [
    {
     "name": "stdout",
     "output_type": "stream",
     "text": [
      "81723 masks in 42556 images\n",
      "150000 empty images in 192556 total images\n"
     ]
    },
    {
     "data": {
      "text/html": [
       "<div>\n",
       "<style scoped>\n",
       "    .dataframe tbody tr th:only-of-type {\n",
       "        vertical-align: middle;\n",
       "    }\n",
       "\n",
       "    .dataframe tbody tr th {\n",
       "        vertical-align: top;\n",
       "    }\n",
       "\n",
       "    .dataframe thead th {\n",
       "        text-align: right;\n",
       "    }\n",
       "</style>\n",
       "<table border=\"1\" class=\"dataframe\">\n",
       "  <thead>\n",
       "    <tr style=\"text-align: right;\">\n",
       "      <th></th>\n",
       "      <th>ImageId</th>\n",
       "      <th>EncodedPixels</th>\n",
       "    </tr>\n",
       "  </thead>\n",
       "  <tbody>\n",
       "    <tr>\n",
       "      <th>0</th>\n",
       "      <td>00003e153.jpg</td>\n",
       "      <td>NaN</td>\n",
       "    </tr>\n",
       "    <tr>\n",
       "      <th>1</th>\n",
       "      <td>0001124c7.jpg</td>\n",
       "      <td>NaN</td>\n",
       "    </tr>\n",
       "    <tr>\n",
       "      <th>2</th>\n",
       "      <td>000155de5.jpg</td>\n",
       "      <td>264661 17 265429 33 266197 33 266965 33 267733...</td>\n",
       "    </tr>\n",
       "    <tr>\n",
       "      <th>3</th>\n",
       "      <td>000194a2d.jpg</td>\n",
       "      <td>360486 1 361252 4 362019 5 362785 8 363552 10 ...</td>\n",
       "    </tr>\n",
       "    <tr>\n",
       "      <th>4</th>\n",
       "      <td>000194a2d.jpg</td>\n",
       "      <td>51834 9 52602 9 53370 9 54138 9 54906 9 55674 ...</td>\n",
       "    </tr>\n",
       "  </tbody>\n",
       "</table>\n",
       "</div>"
      ],
      "text/plain": [
       "         ImageId                                      EncodedPixels\n",
       "0  00003e153.jpg                                                NaN\n",
       "1  0001124c7.jpg                                                NaN\n",
       "2  000155de5.jpg  264661 17 265429 33 266197 33 266965 33 267733...\n",
       "3  000194a2d.jpg  360486 1 361252 4 362019 5 362785 8 363552 10 ...\n",
       "4  000194a2d.jpg  51834 9 52602 9 53370 9 54138 9 54906 9 55674 ..."
      ]
     },
     "execution_count": 38,
     "metadata": {},
     "output_type": "execute_result"
    }
   ],
   "source": [
    "# Specify the path to the CSV file containing ship segmentations\n",
    "csv_file_path = os.path.join(BASE_DIR, 'train_ship_segmentations_v2.csv')\n",
    "\n",
    "# Read the CSV file into a pandas DataFrame\n",
    "masks = pd.read_csv(csv_file_path)\n",
    "\n",
    "# Filter out rows where 'EncodedPixels' column is not empty\n",
    "not_empty = pd.notna(masks['EncodedPixels'])\n",
    "\n",
    "# Count the number of non-empty masks\n",
    "num_non_empty_masks = not_empty.sum()\n",
    "\n",
    "# Count the number of unique images with masks\n",
    "num_unique_images_with_masks = masks[not_empty]['ImageId'].nunique()\n",
    "\n",
    "# Create a boolean mask for empty images\n",
    "empty_images = ~not_empty\n",
    "\n",
    "# Count the number of empty images\n",
    "num_empty_images = empty_images.sum()\n",
    "\n",
    "# Count the total number of images\n",
    "num_total_images = masks['ImageId'].nunique()\n",
    "\n",
    "# Print the number of masks and images with masks\n",
    "print(f\"{num_non_empty_masks} masks in {num_unique_images_with_masks} images\")\n",
    "\n",
    "# Print the number of empty images and total images\n",
    "print(f\"{num_empty_images} empty images in {num_total_images} total images\")\n",
    "masks.head()"
   ]
  },
  {
   "cell_type": "code",
   "execution_count": 39,
   "id": "be382bb8",
   "metadata": {},
   "outputs": [
    {
     "name": "stdout",
     "output_type": "stream",
     "text": [
      "          ImageId  ships  has_ship\n",
      "3   000194a2d.jpg      5       1.0\n",
      "5   00021ddc3.jpg      9       1.0\n",
      "6   0002756f7.jpg      2       1.0\n",
      "11  000532683.jpg      2       1.0\n",
      "15  0005d01c8.jpg      2       1.0\n"
     ]
    }
   ],
   "source": [
    "# Add a new column 'ships' to the DataFrame indicating if a row has a mask\n",
    "masks['ships'] = masks['EncodedPixels'].map(lambda c_row: 1 if isinstance(c_row, str) else 0)\n",
    "\n",
    "# Group the DataFrame by 'ImageId' and calculate the sum of 'ships' for each image\n",
    "unique_img_ids = masks.groupby('ImageId').agg({'ships': 'sum'}).reset_index()\n",
    "\n",
    "# Add a new column 'has_ship' indicating if an image has a ship or not\n",
    "unique_img_ids['has_ship'] = unique_img_ids['ships'].map(lambda x: 1.0 if x > 0 else 0.0)\n",
    "\n",
    "# Drop the 'ships' column from the masks DataFrame\n",
    "masks.drop(['ships'], axis=1, inplace=True)\n",
    "\n",
    "# Print the first five images with multiple ships\n",
    "print(unique_img_ids.loc[unique_img_ids['ships'] >= 2].head())"
   ]
  },
  {
   "cell_type": "code",
   "execution_count": 40,
   "id": "fff1918a",
   "metadata": {},
   "outputs": [
    {
     "data": {
      "text/plain": [
       "<Axes: >"
      ]
     },
     "execution_count": 40,
     "metadata": {},
     "output_type": "execute_result"
    },
    {
     "data": {
      "image/png": "[encoded data removed]",
      "text/plain": [
       "<Figure size 640x480 with 1 Axes>"
      ]
     },
     "metadata": {},
     "output_type": "display_data"
    }
   ],
   "source": [
    "# Plot a histogram of the number of ships per image\n",
    "unique_img_ids['ships'].hist(bins=unique_img_ids['ships'].max())"
   ]
  },
  {
   "cell_type": "code",
   "execution_count": 41,
   "id": "55d4f950",
   "metadata": {},
   "outputs": [
    {
     "name": "stdout",
     "output_type": "stream",
     "text": [
      "Max number of ships: 15\n",
      "Average number of ships: 0.4244115997424126\n"
     ]
    }
   ],
   "source": [
    "# Print the maximum and average number of ships per image\n",
    "print('Max number of ships:', unique_img_ids['ships'].max())\n",
    "print('Average number of ships:', unique_img_ids['ships'].mean())"
   ]
  },
  {
   "cell_type": "code",
   "execution_count": 42,
   "id": "e70301f3",
   "metadata": {},
   "outputs": [
    {
     "name": "stdout",
     "output_type": "stream",
     "text": [
      "19778 masks\n"
     ]
    },
    {
     "data": {
      "image/png": "[encoded data removed]",
      "text/plain": [
       "<Figure size 640x480 with 1 Axes>"
      ]
     },
     "metadata": {},
     "output_type": "display_data"
    }
   ],
   "source": [
    "SAMPLES_PER_GROUP = 4000\n",
    "balanced_train_df = unique_img_ids.groupby('ships').apply(lambda x: x.sample(SAMPLES_PER_GROUP) if len(x) > SAMPLES_PER_GROUP else x)\n",
    "balanced_train_df['ships'].hist(bins=balanced_train_df['ships'].max()+1)\n",
    "print(balanced_train_df.shape[0], 'masks')"
   ]
  },
  {
   "cell_type": "code",
   "execution_count": 43,
   "id": "49aca041",
   "metadata": {},
   "outputs": [
    {
     "name": "stdout",
     "output_type": "stream",
     "text": [
      "185382 training masks\n",
      "46341 validation masks\n"
     ]
    }
   ],
   "source": [
    "# Split the DataFrame into training and validation sets\n",
    "train_ids, valid_ids = train_test_split(unique_img_ids, test_size=0.2, stratify=unique_img_ids['ships'])\n",
    "\n",
    "# Merge the masks DataFrame with the training set\n",
    "train_df = pd.merge(masks, train_ids)\n",
    "\n",
    "# Merge the masks DataFrame with the validation set\n",
    "valid_df = pd.merge(masks, valid_ids)\n",
    "\n",
    "# Print the number of training masks\n",
    "print(train_df.shape[0], 'training masks')\n",
    "\n",
    "# Print the number of validation masks\n",
    "print(valid_df.shape[0], 'validation masks')"
   ]
  }
 ],
 "metadata": {
  "kernelspec": {
   "display_name": "Python 3 (ipykernel)",
   "language": "python",
   "name": "python3"
  },
  "language_info": {
   "codemirror_mode": {
    "name": "ipython",
    "version": 3
   },
   "file_extension": ".py",
   "mimetype": "text/x-python",
   "name": "python",
   "nbconvert_exporter": "python",
   "pygments_lexer": "ipython3",
   "version": "3.9.16"
  }
 },
 "nbformat": 4,
 "nbformat_minor": 5
}
